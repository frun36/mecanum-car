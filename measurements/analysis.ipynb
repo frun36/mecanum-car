{
 "cells": [
  {
   "cell_type": "code",
   "execution_count": null,
   "metadata": {},
   "outputs": [],
   "source": [
    "import numpy as np\n",
    "import matplotlib.pyplot as plt\n",
    "import pandas as pd\n",
    "from sklearn.linear_model import LinearRegression"
   ]
  },
  {
   "cell_type": "code",
   "execution_count": null,
   "metadata": {},
   "outputs": [],
   "source": [
    "class File:\n",
    "    def __init__(self, direction, duty_cycle, repetition):\n",
    "        self.direction = direction\n",
    "        self.duty_cycle = duty_cycle\n",
    "        self.repetition = repetition\n",
    "        self.name = self.generate_name()\n",
    "    \n",
    "    def generate_name(self):\n",
    "        name = \"02/{direction:s}_{duty_cycle:.2f}_{repetition:02d}.csv\"\n",
    "        return name.format(direction = self.direction, duty_cycle=self.duty_cycle, repetition=self.repetition)\n",
    "\n",
    "def filenames(min, max, step, repetitions):\n",
    "    files = []\n",
    "    i = min\n",
    "    while i <= max:\n",
    "        for j in range(repetitions):\n",
    "            files.append(File(direction = \"f\", duty_cycle = i, repetition = j))\n",
    "            files.append(File(direction = \"b\", duty_cycle = i, repetition = j))\n",
    "        i += step\n",
    "    return files"
   ]
  },
  {
   "cell_type": "code",
   "execution_count": null,
   "metadata": {},
   "outputs": [],
   "source": [
    "def get_data_from_file(name):\n",
    "    with open(name) as csv_file:\n",
    "        df = pd.read_csv(csv_file, header=None, names=[\"Time\", \"Distance\"])\n",
    "        start_time = int(df.loc[0][\"Time\"])\n",
    "        start_distance = float(df.loc[0][\"Distance\"])\n",
    "        df *= [1, -1]\n",
    "        df += [-start_time, start_distance]\n",
    "    return df"
   ]
  },
  {
   "cell_type": "code",
   "execution_count": null,
   "metadata": {},
   "outputs": [],
   "source": [
    "files = filenames(0.3, 1.04, 0.05, 3)\n",
    "l = []\n",
    "for file in files:\n",
    "    # Get data\n",
    "    df = get_data_from_file(file.name)\n",
    "    df = df.tail(100)\n",
    "    x = df[\"Time\"].values.reshape(-1, 1)\n",
    "    y = df[\"Distance\"].values.reshape(-1, 1)\n",
    "\n",
    "    # Perform linear regression\n",
    "    regr = LinearRegression()\n",
    "    regr.fit(x, y)\n",
    "    velocity = regr.coef_[0][0]*1000\n",
    "\n",
    "    print(file.direction, file.duty_cycle)\n",
    "    print(velocity)\n",
    "\n",
    "    # # Plot the results\n",
    "    # plt.plot(x, y)\n",
    "    # plt.plot(x, regr.predict(x))\n",
    "    # plt.show()\n",
    "\n",
    "    # Prepare data for global analysis\n",
    "    if file.direction == \"f\":\n",
    "        l.append([file.duty_cycle, velocity])\n",
    "    else:\n",
    "        l.append([file.duty_cycle, -velocity])\n",
    "\n",
    "    # velocity = regr.predict() - regr.predict()\n",
    "    # print(velocity*0.001, \"m/s\")"
   ]
  },
  {
   "cell_type": "code",
   "execution_count": null,
   "metadata": {},
   "outputs": [],
   "source": [
    "df = pd.DataFrame(l, columns=[\"Duty cycle\", \"Velocity\"])\n",
    "# print(df)\n",
    "x = df[\"Duty cycle\"].values.reshape(-1, 1)\n",
    "y = df[\"Velocity\"].values.reshape(-1, 1)\n",
    "# y = np.exp(y)\n",
    "# y = y ** 2\n",
    "\n",
    "df[\"Mean\"] = df.groupby(\"Duty cycle\")[\"Velocity\"].transform(\"mean\")\n",
    "y2 = df[\"Mean\"].values.reshape(-1, 1)\n",
    "\n",
    "y3 = y2 ** 4\n",
    "y3 = np.exp(y3)\n",
    "\n",
    "print(df)\n",
    "\n",
    "regr = LinearRegression()\n",
    "regr.fit(x, y3)\n",
    "\n",
    "# plt.scatter(x, y)\n",
    "plt.scatter(x, y3)\n",
    "plt.plot(x, regr.predict(x))\n",
    "plt.show()\n",
    "\n",
    "coefs = regr.predict(np.array([0, 1]).reshape(-1, 1))\n",
    "coefs = [coefs[1][0]-coefs[0][0], coefs[0][0]]\n",
    "print(coefs)"
   ]
  },
  {
   "cell_type": "code",
   "execution_count": null,
   "metadata": {},
   "outputs": [],
   "source": [
    "# Somewhat accurate prediction of velocity based on duty cycle\n",
    "def velocity_prediction(duty_cycle):\n",
    "    return np.power(np.log(0.3474*duty_cycle+0.9077), 0.25)\n",
    "\n",
    "# Wheel circumference: ~25 cm\n",
    "def rpm_prediction(duty_cycle):\n",
    "    return 60*velocity_prediction(duty_cycle)/0.25\n",
    "\n",
    "plt.scatter(x, y2)\n",
    "plt.plot(x, velocity_prediction(x))\n",
    "plt.show()\n",
    "for i in range(30, 101, 5):\n",
    "    print(0.01*i, rpm_prediction(0.01*i))"
   ]
  }
 ],
 "metadata": {
  "kernelspec": {
   "display_name": ".venv",
   "language": "python",
   "name": "python3"
  },
  "language_info": {
   "codemirror_mode": {
    "name": "ipython",
    "version": 3
   },
   "file_extension": ".py",
   "mimetype": "text/x-python",
   "name": "python",
   "nbconvert_exporter": "python",
   "pygments_lexer": "ipython3",
   "version": "3.10.6"
  },
  "orig_nbformat": 4
 },
 "nbformat": 4,
 "nbformat_minor": 2
}
