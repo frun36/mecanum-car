{
 "cells": [
  {
   "cell_type": "code",
   "execution_count": 5,
   "metadata": {},
   "outputs": [],
   "source": [
    "import numpy as np\n",
    "import matplotlib.pyplot as plt\n",
    "import csv"
   ]
  },
  {
   "cell_type": "code",
   "execution_count": 38,
   "metadata": {},
   "outputs": [],
   "source": [
    "def filenames(min, max, step, repetitions):\n",
    "    names = []\n",
    "    name = \"{direction:s}_{duty_cycle:.2f}_{repetition:02d}.csv\"\n",
    "    i = min\n",
    "    while i <= max:\n",
    "        for j in range(repetitions):\n",
    "            names.append(name.format(direction = \"f\", duty_cycle = i, repetition = j))\n",
    "            names.append(name.format(direction = \"b\", duty_cycle = i, repetition = j))\n",
    "        i += step\n",
    "    return names"
   ]
  },
  {
   "cell_type": "code",
   "execution_count": 36,
   "metadata": {},
   "outputs": [],
   "source": [
    "def plot_file(name):    \n",
    "    with open(name) as csv_file:\n",
    "        csv_reader = csv.reader(csv_file)\n",
    "        lines = [[], []]\n",
    "        csv_reader = list(csv_reader)\n",
    "        start_time = int(csv_reader[0][0])\n",
    "        finish_distance = float(csv_reader[-1][1])\n",
    "        for line in csv_reader:\n",
    "            lines[0].append(int(line[0]) - start_time)\n",
    "            lines[1].append(finish_distance - float(line[1]))\n",
    "            # print(lines[-1])\n",
    "\n",
    "    plt.plot(lines[0], lines[1])\n",
    "    plt.show()"
   ]
  },
  {
   "cell_type": "code",
   "execution_count": null,
   "metadata": {},
   "outputs": [],
   "source": [
    "names = filenames(0.3, 1.0, 0.1, 2)\n",
    "for name in names:\n",
    "    plot_file(name)"
   ]
  },
  {
   "cell_type": "code",
   "execution_count": null,
   "metadata": {},
   "outputs": [],
   "source": []
  },
  {
   "cell_type": "code",
   "execution_count": null,
   "metadata": {},
   "outputs": [],
   "source": []
  }
 ],
 "metadata": {
  "kernelspec": {
   "display_name": ".venv",
   "language": "python",
   "name": "python3"
  },
  "language_info": {
   "codemirror_mode": {
    "name": "ipython",
    "version": 3
   },
   "file_extension": ".py",
   "mimetype": "text/x-python",
   "name": "python",
   "nbconvert_exporter": "python",
   "pygments_lexer": "ipython3",
   "version": "3.10.6"
  },
  "orig_nbformat": 4
 },
 "nbformat": 4,
 "nbformat_minor": 2
}
