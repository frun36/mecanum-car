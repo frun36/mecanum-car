{
 "cells": [
  {
   "cell_type": "code",
   "execution_count": null,
   "metadata": {},
   "outputs": [],
   "source": [
    "import numpy as np\n",
    "import matplotlib.pyplot as plt\n",
    "import pandas as pd\n",
    "from sklearn.linear_model import LinearRegression"
   ]
  },
  {
   "cell_type": "code",
   "execution_count": null,
   "metadata": {},
   "outputs": [],
   "source": [
    "class File:\n",
    "    def __init__(self, direction, duty_cycle, repetition):\n",
    "        self.direction = direction\n",
    "        self.duty_cycle = duty_cycle\n",
    "        self.repetition = repetition\n",
    "        self.name = self.generate_name()\n",
    "    \n",
    "    def generate_name(self):\n",
    "        name = \"{direction:s}_{duty_cycle:.2f}_{repetition:02d}.csv\"\n",
    "        return name.format(direction = self.direction, duty_cycle=self.duty_cycle, repetition=self.repetition)\n",
    "\n",
    "def filenames(min, max, step, repetitions):\n",
    "    files = []\n",
    "    i = min\n",
    "    while i <= max:\n",
    "        for j in range(repetitions):\n",
    "            files.append(File(direction = \"f\", duty_cycle = i, repetition = j))\n",
    "            files.append(File(direction = \"b\", duty_cycle = i, repetition = j))\n",
    "        i += step\n",
    "    return files"
   ]
  },
  {
   "cell_type": "code",
   "execution_count": null,
   "metadata": {},
   "outputs": [],
   "source": [
    "def get_data_from_file(name):\n",
    "    with open(name) as csv_file:\n",
    "        df = pd.read_csv(csv_file, header=None, names=[\"Time\", \"Distance\"])\n",
    "        start_time = int(df.loc[0][\"Time\"])\n",
    "        start_distance = float(df.loc[0][\"Distance\"])\n",
    "        df *= [1, -1]\n",
    "        df += [-start_time, start_distance]\n",
    "    return df"
   ]
  },
  {
   "cell_type": "code",
   "execution_count": null,
   "metadata": {},
   "outputs": [],
   "source": [
    "files = filenames(0.3, 1.0, 0.1, 2)\n",
    "for file in files:\n",
    "    print(file.direction, file.duty_cycle)\n",
    "    df = get_data_from_file(file.name)\n",
    "    df = df.tail(100)\n",
    "    x = df[\"Time\"].values.reshape(-1, 1)\n",
    "    y = df[\"Distance\"].values.reshape(-1, 1)\n",
    "    regr = LinearRegression()\n",
    "    regr.fit(x, y)\n",
    "    print(regr.coef_[0][0]*1000, \"m/s\")\n",
    "    plt.plot(x, y)\n",
    "    plt.plot(x, regr.predict(x))\n",
    "    plt.show()\n",
    "\n",
    "    # velocity = regr.predict() - regr.predict()\n",
    "    # print(velocity*0.001, \"m/s\")"
   ]
  },
  {
   "cell_type": "code",
   "execution_count": null,
   "metadata": {},
   "outputs": [],
   "source": []
  },
  {
   "cell_type": "code",
   "execution_count": null,
   "metadata": {},
   "outputs": [],
   "source": []
  }
 ],
 "metadata": {
  "kernelspec": {
   "display_name": ".venv",
   "language": "python",
   "name": "python3"
  },
  "language_info": {
   "codemirror_mode": {
    "name": "ipython",
    "version": 3
   },
   "file_extension": ".py",
   "mimetype": "text/x-python",
   "name": "python",
   "nbconvert_exporter": "python",
   "pygments_lexer": "ipython3",
   "version": "3.10.6"
  },
  "orig_nbformat": 4
 },
 "nbformat": 4,
 "nbformat_minor": 2
}
